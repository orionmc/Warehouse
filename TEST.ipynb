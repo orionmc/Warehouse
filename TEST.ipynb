{
 "cells": [
  {
   "cell_type": "code",
   "execution_count": 1,
   "metadata": {},
   "outputs": [
    {
     "name": "stdout",
     "output_type": "stream",
     "text": [
      "Mailboxes in Outlook:\n",
      "1: New Starter Days\n",
      "2: Romic Stock\n",
      "3: n.yumer@my.bpp.com\n",
      "4: Joiner Information\n",
      "5: IT Desktop Team\n",
      "6: Network & Infrastructure Activity\n",
      "7: Nihat.Yumer@nhft.nhs.uk\n",
      "8: Device Refresh\n"
     ]
    }
   ],
   "source": [
    "import win32com.client\n",
    "\n",
    "def list_outlook_mailboxes():\n",
    "    try:\n",
    "        # Connect to Outlook application\n",
    "        outlook = win32com.client.Dispatch(\"Outlook.Application\").GetNamespace(\"MAPI\")\n",
    "        \n",
    "        # Get the list of all mailboxes\n",
    "        print(\"Mailboxes in Outlook:\")\n",
    "        for i in range(outlook.Folders.Count):\n",
    "            mailbox = outlook.Folders.Item(i + 1)\n",
    "            print(f\"{i + 1}: {mailbox.Name}\")\n",
    "    \n",
    "    except Exception as e:\n",
    "        print(f\"An error occurred: {e}\")\n",
    "\n",
    "if __name__ == \"__main__\":\n",
    "    list_outlook_mailboxes()\n"
   ]
  }
 ],
 "metadata": {
  "kernelspec": {
   "display_name": "Python 3",
   "language": "python",
   "name": "python3"
  },
  "language_info": {
   "codemirror_mode": {
    "name": "ipython",
    "version": 3
   },
   "file_extension": ".py",
   "mimetype": "text/x-python",
   "name": "python",
   "nbconvert_exporter": "python",
   "pygments_lexer": "ipython3",
   "version": "3.11.9"
  }
 },
 "nbformat": 4,
 "nbformat_minor": 2
}
